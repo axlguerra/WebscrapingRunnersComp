{
 "cells": [
  {
   "cell_type": "code",
   "execution_count": 25,
   "id": "fb577eb1",
   "metadata": {},
   "outputs": [],
   "source": [
    "import matplotlib.pyplot as plt\n",
    "from pylab import rcParams\n",
    "import pandas as pd\n",
    "import bs4\n",
    "from urllib.request import urlopen\n",
    "import seaborn as sns\n",
    "\n",
    "\n",
    "\n"
   ]
  },
  {
   "cell_type": "code",
   "execution_count": 4,
   "id": "a9eeb9ef",
   "metadata": {},
   "outputs": [],
   "source": [
    "url = urlopen('http://www.hubertiming.com/results/2017GPTR10K')\n",
    "\n",
    "soup = bs4.BeautifulSoup(url, 'html.parser')"
   ]
  },
  {
   "cell_type": "code",
   "execution_count": 6,
   "id": "d29c23e6",
   "metadata": {},
   "outputs": [],
   "source": [
    "theaders = soup.find_all('th')\n",
    "\n",
    "table_headers = []\n",
    "for title in theaders:\n",
    "    table_headers.append(title.getText())\n",
    "    \n",
    "t_rows= soup.find_all('tr')\n"
   ]
  },
  {
   "cell_type": "code",
   "execution_count": 7,
   "id": "cbc3a90e",
   "metadata": {},
   "outputs": [],
   "source": [
    "rows_list = []\n",
    "for rows in t_rows[5:577]:\n",
    "    td = rows.find_all('td')\n",
    "\n",
    "    for text in td:\n",
    "        td_text = text.getText().strip()\n",
    "        # print(td_text)\n",
    "        rows_list.append(td_text)"
   ]
  },
  {
   "cell_type": "code",
   "execution_count": 8,
   "id": "6fc6169b",
   "metadata": {},
   "outputs": [],
   "source": [
    "#Break a list into chunks of size N\n",
    "n = 8\n",
    "\n",
    "formated_list  = [rows_list[i * n:(i + 1) * n] for i in range((len(rows_list) + n - 1) // n )]\n"
   ]
  },
  {
   "cell_type": "code",
   "execution_count": 9,
   "id": "f331547e",
   "metadata": {},
   "outputs": [],
   "source": [
    "df = pd.DataFrame(data=formated_list)\n",
    "df.columns = table_headers"
   ]
  },
  {
   "cell_type": "code",
   "execution_count": 12,
   "id": "ee29d0c8",
   "metadata": {},
   "outputs": [
    {
     "data": {
      "text/html": [
       "<div>\n",
       "<style scoped>\n",
       "    .dataframe tbody tr th:only-of-type {\n",
       "        vertical-align: middle;\n",
       "    }\n",
       "\n",
       "    .dataframe tbody tr th {\n",
       "        vertical-align: top;\n",
       "    }\n",
       "\n",
       "    .dataframe thead th {\n",
       "        text-align: right;\n",
       "    }\n",
       "</style>\n",
       "<table border=\"1\" class=\"dataframe\">\n",
       "  <thead>\n",
       "    <tr style=\"text-align: right;\">\n",
       "      <th></th>\n",
       "      <th>Place</th>\n",
       "      <th>Bib</th>\n",
       "      <th>Name</th>\n",
       "      <th>Gender</th>\n",
       "      <th>City</th>\n",
       "      <th>Chip Time</th>\n",
       "      <th>Gun Time</th>\n",
       "      <th>Team</th>\n",
       "    </tr>\n",
       "  </thead>\n",
       "  <tbody>\n",
       "    <tr>\n",
       "      <th>0</th>\n",
       "      <td>1</td>\n",
       "      <td>814</td>\n",
       "      <td>JARED WILSON</td>\n",
       "      <td>M</td>\n",
       "      <td>TIGARD</td>\n",
       "      <td>36:21</td>\n",
       "      <td>36:24</td>\n",
       "      <td></td>\n",
       "    </tr>\n",
       "    <tr>\n",
       "      <th>1</th>\n",
       "      <td>2</td>\n",
       "      <td>573</td>\n",
       "      <td>NATHAN A SUSTERSIC</td>\n",
       "      <td>M</td>\n",
       "      <td>PORTLAND</td>\n",
       "      <td>36:42</td>\n",
       "      <td>36:45</td>\n",
       "      <td>INTEL TEAM F</td>\n",
       "    </tr>\n",
       "    <tr>\n",
       "      <th>2</th>\n",
       "      <td>3</td>\n",
       "      <td>687</td>\n",
       "      <td>FRANCISCO MAYA</td>\n",
       "      <td>M</td>\n",
       "      <td>PORTLAND</td>\n",
       "      <td>37:44</td>\n",
       "      <td>37:48</td>\n",
       "      <td></td>\n",
       "    </tr>\n",
       "    <tr>\n",
       "      <th>3</th>\n",
       "      <td>4</td>\n",
       "      <td>623</td>\n",
       "      <td>PAUL MORROW</td>\n",
       "      <td>M</td>\n",
       "      <td>BEAVERTON</td>\n",
       "      <td>38:34</td>\n",
       "      <td>38:37</td>\n",
       "      <td></td>\n",
       "    </tr>\n",
       "    <tr>\n",
       "      <th>4</th>\n",
       "      <td>5</td>\n",
       "      <td>569</td>\n",
       "      <td>DEREK G OSBORNE</td>\n",
       "      <td>M</td>\n",
       "      <td>HILLSBORO</td>\n",
       "      <td>39:21</td>\n",
       "      <td>39:24</td>\n",
       "      <td>INTEL TEAM F</td>\n",
       "    </tr>\n",
       "    <tr>\n",
       "      <th>...</th>\n",
       "      <td>...</td>\n",
       "      <td>...</td>\n",
       "      <td>...</td>\n",
       "      <td>...</td>\n",
       "      <td>...</td>\n",
       "      <td>...</td>\n",
       "      <td>...</td>\n",
       "      <td>...</td>\n",
       "    </tr>\n",
       "    <tr>\n",
       "      <th>567</th>\n",
       "      <td>568</td>\n",
       "      <td>51</td>\n",
       "      <td>AIMEE TONEY-LOVINGS</td>\n",
       "      <td>F</td>\n",
       "      <td>BEAVERTON</td>\n",
       "      <td>1:32:30</td>\n",
       "      <td>1:33:01</td>\n",
       "      <td></td>\n",
       "    </tr>\n",
       "    <tr>\n",
       "      <th>568</th>\n",
       "      <td>569</td>\n",
       "      <td>158</td>\n",
       "      <td>NARENDER MUDUGANTI</td>\n",
       "      <td>M</td>\n",
       "      <td>HILLSBORO</td>\n",
       "      <td>1:33:50</td>\n",
       "      <td>1:33:54</td>\n",
       "      <td></td>\n",
       "    </tr>\n",
       "    <tr>\n",
       "      <th>569</th>\n",
       "      <td>570</td>\n",
       "      <td>670</td>\n",
       "      <td>HEMA VIJWANI</td>\n",
       "      <td>F</td>\n",
       "      <td>HILLSBORO</td>\n",
       "      <td>1:34:45</td>\n",
       "      <td>1:34:53</td>\n",
       "      <td></td>\n",
       "    </tr>\n",
       "    <tr>\n",
       "      <th>570</th>\n",
       "      <td>571</td>\n",
       "      <td>357</td>\n",
       "      <td>USHA K KETINENI</td>\n",
       "      <td>F</td>\n",
       "      <td>PORTLAND</td>\n",
       "      <td>1:34:48</td>\n",
       "      <td>1:35:27</td>\n",
       "      <td></td>\n",
       "    </tr>\n",
       "    <tr>\n",
       "      <th>571</th>\n",
       "      <td>572</td>\n",
       "      <td>293</td>\n",
       "      <td>SPASS O STOIANTSCHEWSKY</td>\n",
       "      <td>M</td>\n",
       "      <td>PORTLAND</td>\n",
       "      <td>1:37:10</td>\n",
       "      <td>1:38:33</td>\n",
       "      <td></td>\n",
       "    </tr>\n",
       "  </tbody>\n",
       "</table>\n",
       "<p>572 rows × 8 columns</p>\n",
       "</div>"
      ],
      "text/plain": [
       "    Place  Bib                     Name Gender       City Chip Time Gun Time  \\\n",
       "0       1  814             JARED WILSON      M     TIGARD     36:21    36:24   \n",
       "1       2  573       NATHAN A SUSTERSIC      M   PORTLAND     36:42    36:45   \n",
       "2       3  687           FRANCISCO MAYA      M   PORTLAND     37:44    37:48   \n",
       "3       4  623              PAUL MORROW      M  BEAVERTON     38:34    38:37   \n",
       "4       5  569          DEREK G OSBORNE      M  HILLSBORO     39:21    39:24   \n",
       "..    ...  ...                      ...    ...        ...       ...      ...   \n",
       "567   568   51      AIMEE TONEY-LOVINGS      F  BEAVERTON   1:32:30  1:33:01   \n",
       "568   569  158       NARENDER MUDUGANTI      M  HILLSBORO   1:33:50  1:33:54   \n",
       "569   570  670             HEMA VIJWANI      F  HILLSBORO   1:34:45  1:34:53   \n",
       "570   571  357          USHA K KETINENI      F   PORTLAND   1:34:48  1:35:27   \n",
       "571   572  293  SPASS O STOIANTSCHEWSKY      M   PORTLAND   1:37:10  1:38:33   \n",
       "\n",
       "             Team  \n",
       "0                  \n",
       "1    INTEL TEAM F  \n",
       "2                  \n",
       "3                  \n",
       "4    INTEL TEAM F  \n",
       "..            ...  \n",
       "567                \n",
       "568                \n",
       "569                \n",
       "570                \n",
       "571                \n",
       "\n",
       "[572 rows x 8 columns]"
      ]
     },
     "execution_count": 12,
     "metadata": {},
     "output_type": "execute_result"
    }
   ],
   "source": [
    "df"
   ]
  },
  {
   "cell_type": "code",
   "execution_count": 14,
   "id": "24607cd7",
   "metadata": {},
   "outputs": [],
   "source": [
    "#Changing chip time from str to float\n",
    "\n",
    "time_list = df['Chip Time'].to_list()\n",
    "time_mins = []\n"
   ]
  },
  {
   "cell_type": "code",
   "execution_count": 15,
   "id": "661f36c1",
   "metadata": {},
   "outputs": [],
   "source": [
    "for i in time_list:\n",
    "\n",
    "    time  = str(i).split(':')\n",
    "    if len(time) ==2:\n",
    "        math = (int(time[0])*60 + int(time[1]))/60\n",
    "    else:\n",
    "        math =(int(time[0])*3600 + int(time[1])*60 + int(time[2]))/60\n",
    "    time_mins.append(round(math,2))"
   ]
  },
  {
   "cell_type": "code",
   "execution_count": 16,
   "id": "5109c791",
   "metadata": {},
   "outputs": [],
   "source": [
    "#Adding new column\n",
    "df['Runner_mins']= time_mins\n"
   ]
  },
  {
   "cell_type": "code",
   "execution_count": 18,
   "id": "5566b679",
   "metadata": {},
   "outputs": [
    {
     "data": {
      "text/html": [
       "<div>\n",
       "<style scoped>\n",
       "    .dataframe tbody tr th:only-of-type {\n",
       "        vertical-align: middle;\n",
       "    }\n",
       "\n",
       "    .dataframe tbody tr th {\n",
       "        vertical-align: top;\n",
       "    }\n",
       "\n",
       "    .dataframe thead th {\n",
       "        text-align: right;\n",
       "    }\n",
       "</style>\n",
       "<table border=\"1\" class=\"dataframe\">\n",
       "  <thead>\n",
       "    <tr style=\"text-align: right;\">\n",
       "      <th></th>\n",
       "      <th>Place</th>\n",
       "      <th>Bib</th>\n",
       "      <th>Name</th>\n",
       "      <th>Gender</th>\n",
       "      <th>City</th>\n",
       "      <th>Chip Time</th>\n",
       "      <th>Gun Time</th>\n",
       "      <th>Team</th>\n",
       "      <th>Runner_mins</th>\n",
       "    </tr>\n",
       "  </thead>\n",
       "  <tbody>\n",
       "    <tr>\n",
       "      <th>0</th>\n",
       "      <td>1</td>\n",
       "      <td>814</td>\n",
       "      <td>JARED WILSON</td>\n",
       "      <td>M</td>\n",
       "      <td>TIGARD</td>\n",
       "      <td>36:21</td>\n",
       "      <td>36:24</td>\n",
       "      <td></td>\n",
       "      <td>36.35</td>\n",
       "    </tr>\n",
       "    <tr>\n",
       "      <th>1</th>\n",
       "      <td>2</td>\n",
       "      <td>573</td>\n",
       "      <td>NATHAN A SUSTERSIC</td>\n",
       "      <td>M</td>\n",
       "      <td>PORTLAND</td>\n",
       "      <td>36:42</td>\n",
       "      <td>36:45</td>\n",
       "      <td>INTEL TEAM F</td>\n",
       "      <td>36.70</td>\n",
       "    </tr>\n",
       "    <tr>\n",
       "      <th>2</th>\n",
       "      <td>3</td>\n",
       "      <td>687</td>\n",
       "      <td>FRANCISCO MAYA</td>\n",
       "      <td>M</td>\n",
       "      <td>PORTLAND</td>\n",
       "      <td>37:44</td>\n",
       "      <td>37:48</td>\n",
       "      <td></td>\n",
       "      <td>37.73</td>\n",
       "    </tr>\n",
       "    <tr>\n",
       "      <th>3</th>\n",
       "      <td>4</td>\n",
       "      <td>623</td>\n",
       "      <td>PAUL MORROW</td>\n",
       "      <td>M</td>\n",
       "      <td>BEAVERTON</td>\n",
       "      <td>38:34</td>\n",
       "      <td>38:37</td>\n",
       "      <td></td>\n",
       "      <td>38.57</td>\n",
       "    </tr>\n",
       "    <tr>\n",
       "      <th>4</th>\n",
       "      <td>5</td>\n",
       "      <td>569</td>\n",
       "      <td>DEREK G OSBORNE</td>\n",
       "      <td>M</td>\n",
       "      <td>HILLSBORO</td>\n",
       "      <td>39:21</td>\n",
       "      <td>39:24</td>\n",
       "      <td>INTEL TEAM F</td>\n",
       "      <td>39.35</td>\n",
       "    </tr>\n",
       "  </tbody>\n",
       "</table>\n",
       "</div>"
      ],
      "text/plain": [
       "  Place  Bib                Name Gender       City Chip Time Gun Time  \\\n",
       "0     1  814        JARED WILSON      M     TIGARD     36:21    36:24   \n",
       "1     2  573  NATHAN A SUSTERSIC      M   PORTLAND     36:42    36:45   \n",
       "2     3  687      FRANCISCO MAYA      M   PORTLAND     37:44    37:48   \n",
       "3     4  623         PAUL MORROW      M  BEAVERTON     38:34    38:37   \n",
       "4     5  569     DEREK G OSBORNE      M  HILLSBORO     39:21    39:24   \n",
       "\n",
       "           Team  Runner_mins  \n",
       "0                      36.35  \n",
       "1  INTEL TEAM F        36.70  \n",
       "2                      37.73  \n",
       "3                      38.57  \n",
       "4  INTEL TEAM F        39.35  "
      ]
     },
     "execution_count": 18,
     "metadata": {},
     "output_type": "execute_result"
    }
   ],
   "source": [
    "df.head()"
   ]
  },
  {
   "cell_type": "code",
   "execution_count": 39,
   "id": "2fd38112",
   "metadata": {},
   "outputs": [
    {
     "data": {
      "text/plain": [
       "count    572.000000\n",
       "mean      59.691154\n",
       "std       11.436696\n",
       "min       36.350000\n",
       "25%       50.830000\n",
       "50%       58.975000\n",
       "75%       67.110000\n",
       "max       97.170000\n",
       "Name: Runner_mins, dtype: float64"
      ]
     },
     "execution_count": 39,
     "metadata": {},
     "output_type": "execute_result"
    }
   ],
   "source": [
    "#Getting avg finish time (mean)\n",
    "df['Runner_mins'].describe()\n",
    "#Mean time from all cyclist was 59.69 mins!"
   ]
  },
  {
   "cell_type": "code",
   "execution_count": 20,
   "id": "d0759840",
   "metadata": {},
   "outputs": [],
   "source": [
    "# For data visualization, it is convenient to first import parameters from the \n",
    "# pylab module that comes with matplotlib and set \n",
    "# the same size for all figures to avoid doing it for each figure.\n",
    "rcParams['figure.figsize'] = 15, 5"
   ]
  },
  {
   "cell_type": "code",
   "execution_count": 23,
   "id": "fe3bf04b",
   "metadata": {},
   "outputs": [
    {
     "data": {
      "text/plain": [
       "([<matplotlib.axis.XTick at 0x2a6fac98dc0>], [Text(1, 0, 'Runners')])"
      ]
     },
     "execution_count": 23,
     "metadata": {},
     "output_type": "execute_result"
    },
    {
     "data": {
      "image/png": "[encoded data removed]",
      "text/plain": [
       "<Figure size 1080x360 with 1 Axes>"
      ]
     },
     "metadata": {
      "needs_background": "light"
     },
     "output_type": "display_data"
    }
   ],
   "source": [
    "#Grafical representation of AVG time with Boxplot\n",
    "df.boxplot(column='Runner_mins')\n",
    "plt.grid(True, axis='y')\n",
    "plt.ylabel('Chip Time')\n",
    "plt.xticks([1], ['Runners'])"
   ]
  },
  {
   "cell_type": "code",
   "execution_count": 26,
   "id": "a445b4b2",
   "metadata": {},
   "outputs": [
    {
     "name": "stderr",
     "output_type": "stream",
     "text": [
      "C:\\Users\\gchax\\anaconda3\\lib\\site-packages\\seaborn\\distributions.py:2557: FutureWarning: `distplot` is a deprecated function and will be removed in a future version. Please adapt your code to use either `displot` (a figure-level function with similar flexibility) or `histplot` (an axes-level function for histograms).\n",
      "  warnings.warn(msg, FutureWarning)\n"
     ]
    },
    {
     "data": {
      "image/png": "[encoded data removed]",
      "text/plain": [
       "<Figure size 1080x360 with 1 Axes>"
      ]
     },
     "metadata": {
      "needs_background": "light"
     },
     "output_type": "display_data"
    }
   ],
   "source": [
    "# Did the runners' finish times follow a normal distribution?\n",
    "\n",
    "x = df['Runner_mins']\n",
    "ax = sns.distplot(x, hist=True, kde=True, rug=False, color='m', bins=25, hist_kws={'edgecolor':'black'})\n",
    "plt.show()\n",
    "\n",
    "# Below is a distribution plot of runners' chip times plotted using the seaborn library. \n",
    "# The distribution looks almost normal."
   ]
  },
  {
   "cell_type": "code",
   "execution_count": 27,
   "id": "e981aee0",
   "metadata": {},
   "outputs": [],
   "source": [
    "# The third question deals with whether there were any performance\n",
    "# differences between males and females of various age groups. \n",
    "# Below is a distribution plot of chip times for males and females."
   ]
  },
  {
   "cell_type": "code",
   "execution_count": 35,
   "id": "62f655de",
   "metadata": {},
   "outputs": [
    {
     "name": "stderr",
     "output_type": "stream",
     "text": [
      "C:\\Users\\gchax\\anaconda3\\lib\\site-packages\\seaborn\\distributions.py:2557: FutureWarning: `distplot` is a deprecated function and will be removed in a future version. Please adapt your code to use either `displot` (a figure-level function with similar flexibility) or `histplot` (an axes-level function for histograms).\n",
      "  warnings.warn(msg, FutureWarning)\n",
      "C:\\Users\\gchax\\anaconda3\\lib\\site-packages\\seaborn\\distributions.py:2557: FutureWarning: `distplot` is a deprecated function and will be removed in a future version. Please adapt your code to use either `displot` (a figure-level function with similar flexibility) or `kdeplot` (an axes-level function for kernel density plots).\n",
      "  warnings.warn(msg, FutureWarning)\n"
     ]
    },
    {
     "data": {
      "text/plain": [
       "<matplotlib.legend.Legend at 0x2a6fcb2d940>"
      ]
     },
     "execution_count": 35,
     "metadata": {},
     "output_type": "execute_result"
    },
    {
     "data": {
      "image/png": "[encoded data removed]",
      "text/plain": [
       "<Figure size 1080x360 with 1 Axes>"
      ]
     },
     "metadata": {
      "needs_background": "light"
     },
     "output_type": "display_data"
    }
   ],
   "source": [
    "# The third question deals with whether there were any performance differences\n",
    "# between males and females of various age groups.\n",
    "# Below is a distribution plot of chip times for males and females.\n",
    "\n",
    "male_ = df.loc[df['Gender']=='F']['Runner_mins']\n",
    "female_ = df.loc[df['Gender']=='M']['Runner_mins']\n",
    "\n",
    "sns.distplot(female_, hist=True, kde=True, rug=False, hist_kws={'edgecolor':'black'}, label='Female')\n",
    "sns.distplot(male_, hist=False, kde=True, rug=False, hist_kws={'edgecolor':'black'}, label='Male')\n",
    "plt.legend()\n"
   ]
  },
  {
   "cell_type": "code",
   "execution_count": 40,
   "id": "80812793",
   "metadata": {},
   "outputs": [
    {
     "name": "stdout",
     "output_type": "stream",
     "text": [
      "       Runner_mins                                                          \n",
      "             count       mean        std    min    25%    50%     75%    max\n",
      "Gender                                                                      \n",
      "F            159.0  65.274025  11.084610  43.77  58.66  64.37  71.435  94.80\n",
      "M            413.0  57.541816  10.839599  36.35  49.38  55.75  64.670  97.17\n"
     ]
    }
   ],
   "source": [
    "g_stats = df.groupby(\"Gender\", as_index=True).describe()\n",
    "print(g_stats)\n",
    "\n",
    "# The distribution indicates that females were slower than males on average."
   ]
  },
  {
   "cell_type": "code",
   "execution_count": 38,
   "id": "e161f8a6",
   "metadata": {},
   "outputs": [
    {
     "data": {
      "text/plain": [
       "Text(0.5, 0.98, '')"
      ]
     },
     "execution_count": 38,
     "metadata": {},
     "output_type": "execute_result"
    },
    {
     "data": {
      "image/png": "[encoded data removed]",
      "text/plain": [
       "<Figure size 1080x360 with 1 Axes>"
      ]
     },
     "metadata": {
      "needs_background": "light"
     },
     "output_type": "display_data"
    }
   ],
   "source": [
    "df.boxplot(column='Runner_mins', by='Gender')\n",
    "plt.ylabel('Chip Time')\n",
    "plt.suptitle(\"\")"
   ]
  },
  {
   "cell_type": "code",
   "execution_count": null,
   "id": "62ddd6c9",
   "metadata": {},
   "outputs": [],
   "source": []
  }
 ],
 "metadata": {
  "kernelspec": {
   "display_name": "Python 3",
   "language": "python",
   "name": "python3"
  },
  "language_info": {
   "codemirror_mode": {
    "name": "ipython",
    "version": 3
   },
   "file_extension": ".py",
   "mimetype": "text/x-python",
   "name": "python",
   "nbconvert_exporter": "python",
   "pygments_lexer": "ipython3",
   "version": "3.8.8"
  }
 },
 "nbformat": 4,
 "nbformat_minor": 5
}
